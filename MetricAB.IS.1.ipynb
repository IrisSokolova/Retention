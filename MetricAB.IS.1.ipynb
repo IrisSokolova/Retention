{
 "cells": [
  {
   "cell_type": "code",
   "execution_count": 8,
   "metadata": {},
   "outputs": [],
   "source": [
    "import pandas as pd\n",
    "import numpy as np\n",
    "import matplotlib.pyplot as plt\n",
    "import seaborn as sns\n",
    "from tqdm.auto import tqdm\n",
    "import scipy.stats as stats"
   ]
  },
  {
   "cell_type": "markdown",
   "metadata": {},
   "source": [
    "Имеются результаты A/B теста, в котором двум группам пользователей предлагались различные наборы акционных предложений. Известно, что ARPU в тестовой группе выше на 5%, чем в контрольной. При этом в контрольной группе 1928 игроков из 202103 оказались платящими, а в тестовой – 1805 из 202667.\n",
    "\n",
    "Какой набор предложений можно считать лучшим? Какие метрики стоит проанализировать для принятия правильного решения и как?"
   ]
  },
  {
   "cell_type": "code",
   "execution_count": 9,
   "metadata": {},
   "outputs": [],
   "source": [
    "file = 'problem2.csv'"
   ]
  },
  {
   "cell_type": "code",
   "execution_count": 24,
   "metadata": {},
   "outputs": [],
   "source": [
    "df_ = pd.read_csv(file, sep = ';')"
   ]
  },
  {
   "cell_type": "code",
   "execution_count": 62,
   "metadata": {},
   "outputs": [
    {
     "data": {
      "text/html": [
       "<div>\n",
       "<style scoped>\n",
       "    .dataframe tbody tr th:only-of-type {\n",
       "        vertical-align: middle;\n",
       "    }\n",
       "\n",
       "    .dataframe tbody tr th {\n",
       "        vertical-align: top;\n",
       "    }\n",
       "\n",
       "    .dataframe thead th {\n",
       "        text-align: right;\n",
       "    }\n",
       "</style>\n",
       "<table border=\"1\" class=\"dataframe\">\n",
       "  <thead>\n",
       "    <tr style=\"text-align: right;\">\n",
       "      <th></th>\n",
       "      <th>user_id</th>\n",
       "      <th>revenue</th>\n",
       "      <th>testgroup</th>\n",
       "    </tr>\n",
       "  </thead>\n",
       "  <tbody>\n",
       "    <tr>\n",
       "      <th>404767</th>\n",
       "      <td>404768</td>\n",
       "      <td>231</td>\n",
       "      <td>a</td>\n",
       "    </tr>\n",
       "    <tr>\n",
       "      <th>404768</th>\n",
       "      <td>404769</td>\n",
       "      <td>0</td>\n",
       "      <td>a</td>\n",
       "    </tr>\n",
       "    <tr>\n",
       "      <th>404769</th>\n",
       "      <td>404770</td>\n",
       "      <td>0</td>\n",
       "      <td>b</td>\n",
       "    </tr>\n",
       "  </tbody>\n",
       "</table>\n",
       "</div>"
      ],
      "text/plain": [
       "        user_id  revenue testgroup\n",
       "404767   404768      231         a\n",
       "404768   404769        0         a\n",
       "404769   404770        0         b"
      ]
     },
     "execution_count": 62,
     "metadata": {},
     "output_type": "execute_result"
    }
   ],
   "source": [
    "df.tail(3)"
   ]
  },
  {
   "cell_type": "code",
   "execution_count": 12,
   "metadata": {},
   "outputs": [
    {
     "data": {
      "text/plain": [
       "user_id       int64\n",
       "revenue       int64\n",
       "testgroup    object\n",
       "dtype: object"
      ]
     },
     "execution_count": 12,
     "metadata": {},
     "output_type": "execute_result"
    }
   ],
   "source": [
    "df.dtypes"
   ]
  },
  {
   "cell_type": "code",
   "execution_count": 63,
   "metadata": {},
   "outputs": [],
   "source": [
    "def metric_revenue(data):\n",
    "    \n",
    "    #количество клиентов в группах\n",
    "    id_paid_a = df[df.testgroup == 'a'].query(\"revenue > 0\")['user_id'].count()\n",
    "    id_paid_b = df[df.testgroup == 'b'].query(\"revenue > 0\")['user_id'].count()\n",
    "    \n",
    "    #количество пользователей в группах\n",
    "    id_count_b = df[df.testgroup == 'b']['user_id'].count()\n",
    "    id_count_a = df[df.testgroup == 'a']['user_id'].count()\n",
    "    \n",
    "    #конверсия пользователей в клиентов\n",
    "    conv_a = round(df[df.testgroup == 'a'].query(\"revenue > 0\")['user_id'].nunique()/df[df.testgroup == 'a']['user_id'].nunique()*100, 2)\n",
    "    conv_b = round(df[df.testgroup == 'b'].query(\"revenue > 0\")['user_id'].nunique()/df[df.testgroup == 'b']['user_id'].nunique()*100, 2)\n",
    "    \n",
    "    #средний чек\n",
    "    Avg_a = round(df[df.testgroup == 'a']['revenue'].sum()/df[df.testgroup == 'a'].query(\"revenue > 0\")['revenue'].count())\n",
    "    Avg_b = round(df[df.testgroup == 'b']['revenue'].sum()/df[df.testgroup == 'b'].query(\"revenue > 0\")['revenue'].count())\n",
    "    \n",
    "    #медианный средний чек\n",
    "    Median_paid_a = df[df.testgroup == 'a'].query(\"revenue > 0\")['revenue'].median() \n",
    "    Median_paid_b = df[df.testgroup == 'b'].query(\"revenue > 0\")['revenue'].median()\n",
    "    \n",
    "    #повторная покупка\n",
    "    pp_a = df[df.testgroup == 'a'].query(\"revenue > 0\")['revenue'].count()/df[df.testgroup == 'a'].query(\"revenue > 0\")['user_id'].nunique()\n",
    "    pp_b = df[df.testgroup == 'b'].query(\"revenue > 0\")['revenue'].count()/df[df.testgroup == 'b'].query(\"revenue > 0\")['user_id'].nunique()\n",
    "    \n",
    "    #ARPPU = доход/клиенты или повторные покупки*средний чек\n",
    "    ARPPU_a = round(pp_a*Avg_a)\n",
    "    ARPPU_b = round(pp_b*Avg_b)\n",
    "    \n",
    "    #ARPU = конверсия*доход/клиенты\n",
    "    ARPU_a = round(conv_a*ARPPU_a)\n",
    "    ARPU_b = round(conv_b*ARPPU_b)\n",
    "    \n",
    "    #максимальный средний чек\n",
    "    Max_check_a = df[df.testgroup == 'a'].revenue.max()\n",
    "    Max_check_b = df[df.testgroup == 'b'].revenue.max()\n",
    "    \n",
    "    #выручка\n",
    "    revenue_sum_a = Avg_a*id_paid_a\n",
    "    revenue_sum_b = Avg_b*id_paid_b\n",
    "    \n",
    "    #табличный вывод метрик\n",
    "    data = {'id_count': [id_count_a, id_count_b], 'id_paid': [id_paid_a, id_paid_b],\n",
    "           'conv':[conv_a, conv_b], 'avg_check':[Avg_a, Avg_b], 'median_check':[Median_paid_a, Median_paid_b], 'max_check':[Max_check_a, Max_check_b],\n",
    "           'pp':[pp_a, pp_b], 'ARPPU':[ARPPU_a, ARPPU_b], 'ARPU':[ARPU_a, ARPU_b], 'revenue_sum':[revenue_sum_a, revenue_sum_b]}\n",
    "    metric_table = pd.DataFrame(data, index=['a', 'b'])\n",
    "    \n",
    "    #визуализация распределения revenue\n",
    "    sns.set(rc={'figure.figsize':(11.7,8.27)})\n",
    "    plt.title('Boxplot of revenue by group')\n",
    "    ax = sns.boxplot(x = 'revenue', y = 'testgroup', data = df.query(\"revenue > 0\"))\n",
    "    fig=ax.get_figure()\n",
    "    fig.savefig(\"Boxplot_revenue.png\")\n",
    "    \n",
    "    return metric_table"
   ]
  },
  {
   "cell_type": "code",
   "execution_count": 64,
   "metadata": {},
   "outputs": [
    {
     "data": {
      "image/png": "[encoded data removed]",
      "text/plain": [
       "<Figure size 842.4x595.44 with 1 Axes>"
      ]
     },
     "metadata": {},
     "output_type": "display_data"
    }
   ],
   "source": [
    "df__ = metric_revenue(df_)\n"
   ]
  },
  {
   "cell_type": "code",
   "execution_count": 65,
   "metadata": {},
   "outputs": [
    {
     "data": {
      "text/html": [
       "<div>\n",
       "<style scoped>\n",
       "    .dataframe tbody tr th:only-of-type {\n",
       "        vertical-align: middle;\n",
       "    }\n",
       "\n",
       "    .dataframe tbody tr th {\n",
       "        vertical-align: top;\n",
       "    }\n",
       "\n",
       "    .dataframe thead th {\n",
       "        text-align: right;\n",
       "    }\n",
       "</style>\n",
       "<table border=\"1\" class=\"dataframe\">\n",
       "  <thead>\n",
       "    <tr style=\"text-align: right;\">\n",
       "      <th></th>\n",
       "      <th>id_count</th>\n",
       "      <th>id_paid</th>\n",
       "      <th>conv</th>\n",
       "      <th>avg_check</th>\n",
       "      <th>median_check</th>\n",
       "      <th>max_check</th>\n",
       "      <th>pp</th>\n",
       "      <th>ARPPU</th>\n",
       "      <th>ARPU</th>\n",
       "      <th>revenue_sum</th>\n",
       "    </tr>\n",
       "  </thead>\n",
       "  <tbody>\n",
       "    <tr>\n",
       "      <th>a</th>\n",
       "      <td>202103</td>\n",
       "      <td>1928</td>\n",
       "      <td>0.95</td>\n",
       "      <td>2664.0</td>\n",
       "      <td>311.0</td>\n",
       "      <td>37433</td>\n",
       "      <td>1.0</td>\n",
       "      <td>2664.0</td>\n",
       "      <td>2531.0</td>\n",
       "      <td>5136192.0</td>\n",
       "    </tr>\n",
       "    <tr>\n",
       "      <th>b</th>\n",
       "      <td>202667</td>\n",
       "      <td>1805</td>\n",
       "      <td>0.89</td>\n",
       "      <td>3004.0</td>\n",
       "      <td>3022.0</td>\n",
       "      <td>4000</td>\n",
       "      <td>1.0</td>\n",
       "      <td>3004.0</td>\n",
       "      <td>2674.0</td>\n",
       "      <td>5422220.0</td>\n",
       "    </tr>\n",
       "  </tbody>\n",
       "</table>\n",
       "</div>"
      ],
      "text/plain": [
       "   id_count  id_paid  conv  avg_check  median_check  max_check   pp   ARPPU  \\\n",
       "a    202103     1928  0.95     2664.0         311.0      37433  1.0  2664.0   \n",
       "b    202667     1805  0.89     3004.0        3022.0       4000  1.0  3004.0   \n",
       "\n",
       "     ARPU  revenue_sum  \n",
       "a  2531.0    5136192.0  \n",
       "b  2674.0    5422220.0  "
      ]
     },
     "execution_count": 65,
     "metadata": {},
     "output_type": "execute_result"
    }
   ],
   "source": [
    "df__"
   ]
  },
  {
   "cell_type": "code",
   "execution_count": 60,
   "metadata": {},
   "outputs": [
    {
     "data": {
      "text/plain": [
       "123"
      ]
     },
     "execution_count": 60,
     "metadata": {},
     "output_type": "execute_result"
    }
   ],
   "source": [
    "#количество заказов в группе  А > 10000 руб.\n",
    "max_orders_a = df_[df_.testgroup == 'a'].query(\"revenue > 0 & revenue > 10000\")['revenue'].count()\n",
    "max_orders_a"
   ]
  },
  {
   "cell_type": "code",
   "execution_count": 66,
   "metadata": {},
   "outputs": [
    {
     "data": {
      "text/plain": [
       "-286028.0"
      ]
     },
     "execution_count": 66,
     "metadata": {},
     "output_type": "execute_result"
    }
   ],
   "source": [
    "# разница выручки в группе А и группе В\n",
    "5136192.0-5422220.0"
   ]
  },
  {
   "cell_type": "code",
   "execution_count": 70,
   "metadata": {},
   "outputs": [
    {
     "data": {
      "text/plain": [
       "663884.0"
      ]
     },
     "execution_count": 70,
     "metadata": {},
     "output_type": "execute_result"
    }
   ],
   "source": [
    "#Потенциальное увеличение выручки в группе В при увеличении конверсии до 1%\n",
    "(2026*3004) - 5422220.0"
   ]
  },
  {
   "cell_type": "markdown",
   "metadata": {},
   "source": [
    "### Выводы:\n",
    "\n",
    "В контрольной и тестовой группе данные распределились следующим образом:\n",
    "\n",
    "    группа А - 202103 участников из них 1928, те кто совершил покупку, при этом конверсия составила 0.95\n",
    "    группа B - 202667 участников из них 1805, те кто совершил покупку, при этом конверсия составила 0.85\n",
    "    повторных покупок в обоих группах не было, то есть покупатель покупал набор только один раз.\n",
    "    \n",
    "не смотря на то, что конверсия в группе В ниже чем в группе A, все остальные метрики выше ARPPU(средний доход на платящего пользователя),\n",
    "ARPU(средний доход на пользователя), средний чек, а также выручка В группе B выше на 286028 руб.\n",
    "\n",
    "Интересным представилось проанализировать медианный и максимальный чеки в обоих группах. А также само распределение \n",
    "revenue по группам см. BoxPlot\n",
    "    \n",
    "По графику мы видим, что в группе А основная масса покупателей покупала наборы в среднем по 311 руб. и лишь небольшая \n",
    "группа из 123 покупателей купила наборы по цене более 37000 руб. Что говорит нам о том, перед покупателями стоял сложный выбор \n",
    "и они предпочитали покупать минимальный набор по минимальной цене и лишь небольшая группа согласилась приобрести полный набор.\n",
    "Соответственно необходимо проверить этих покупателей, кто они, что конкретно они покупали, исключить возможность технической ошибки.\n",
    "\n",
    "Тогда как в группе B практически каждый покупатель купил набор, поторатив при этом от 3000 до 4000 руб. \n",
    "То есть покупатели прекрасно отреагировали на предложение не задумываясь покупали акционные товары по заявленной цене.\n",
    "Покупки стабильные и ровные.\n",
    "\n",
    "### Рекомендации:\n",
    "    \n",
    "1. Выбрать набор B.\n",
    "2. Проанализировать воронку продаж в группе B.\n",
    "3. Увеличить конверсию (например, если довести конверсию в этой группе до 1%, при тех же исходный данных\n",
    "то можно увеличить выручку на 663884 руб.)\n",
    "\n",
    "Для полного анализа необходимо проанализировать маржинальность предлагаемых наборов, затраты.\n",
    "Возможно целью данной акции было оценить возможность с помощью акционного предложения продать дорогостоящие наборы по 37 тыс. рублей, \n",
    "тогда группа А справилась с поставленной задачей, и необходимо стосредоточиться на оценке этих результатов."
   ]
  },
  {
   "cell_type": "code",
   "execution_count": null,
   "metadata": {},
   "outputs": [],
   "source": []
  }
 ],
 "metadata": {
  "kernelspec": {
   "display_name": "Python 3",
   "language": "python",
   "name": "python3"
  },
  "language_info": {
   "codemirror_mode": {
    "name": "ipython",
    "version": 3
   },
   "file_extension": ".py",
   "mimetype": "text/x-python",
   "name": "python",
   "nbconvert_exporter": "python",
   "pygments_lexer": "ipython3",
   "version": "3.7.1"
  }
 },
 "nbformat": 4,
 "nbformat_minor": 2
}
